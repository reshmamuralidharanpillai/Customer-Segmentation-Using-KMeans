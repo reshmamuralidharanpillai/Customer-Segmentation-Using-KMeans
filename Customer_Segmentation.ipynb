{
 "cells": [
  {
   "cell_type": "code",
   "execution_count": null,
   "metadata": {},
   "outputs": [],
   "source": [
    "# Import necessary libraries\n",
    "import numpy as np\n",
    "import pandas as pd\n",
    "import seaborn as sns\n",
    "import matplotlib.pyplot as plt\n",
    "import kagglehub"
   ]
  },
  {
   "cell_type": "code",
   "execution_count": null,
   "metadata": {},
   "outputs": [
    {
     "name": "stdout",
     "output_type": "stream",
     "text": [
      "Downloading from https://www.kaggle.com/api/v1/datasets/download/vjchoudhary7/customer-segmentation-tutorial-in-python?dataset_version_number=1...\n"
     ]
    },
    {
     "name": "stderr",
     "output_type": "stream",
     "text": [
      "100%|██████████| 1.55k/1.55k [00:00<00:00, 440kB/s]"
     ]
    },
    {
     "name": "stdout",
     "output_type": "stream",
     "text": [
      "Extracting files...\n",
      "Path to dataset files: /Users/reshmam/.cache/kagglehub/datasets/vjchoudhary7/customer-segmentation-tutorial-in-python/versions/1\n"
     ]
    },
    {
     "name": "stderr",
     "output_type": "stream",
     "text": [
      "\n"
     ]
    }
   ],
   "source": [
    "# ------------------- Download Dataset from Kaggle -------------------\n",
    "# Fetch the latest version of the dataset\n",
    "path = kagglehub.dataset_download(\"vjchoudhary7/customer-segmentation-tutorial-in-python\")\n",
    "\n",
    "# Display the path where dataset files are downloaded\n",
    "print(\"Path to dataset files:\", path)"
   ]
  },
  {
   "cell_type": "code",
   "execution_count": null,
   "metadata": {},
   "outputs": [
    {
     "data": {
      "text/html": [
       "<div>\n",
       "<style scoped>\n",
       "    .dataframe tbody tr th:only-of-type {\n",
       "        vertical-align: middle;\n",
       "    }\n",
       "\n",
       "    .dataframe tbody tr th {\n",
       "        vertical-align: top;\n",
       "    }\n",
       "\n",
       "    .dataframe thead th {\n",
       "        text-align: right;\n",
       "    }\n",
       "</style>\n",
       "<table border=\"1\" class=\"dataframe\">\n",
       "  <thead>\n",
       "    <tr style=\"text-align: right;\">\n",
       "      <th></th>\n",
       "      <th>CustomerID</th>\n",
       "      <th>Gender</th>\n",
       "      <th>Age</th>\n",
       "      <th>Annual Income (k$)</th>\n",
       "      <th>Spending Score (1-100)</th>\n",
       "    </tr>\n",
       "  </thead>\n",
       "  <tbody>\n",
       "    <tr>\n",
       "      <th>0</th>\n",
       "      <td>1</td>\n",
       "      <td>Male</td>\n",
       "      <td>19</td>\n",
       "      <td>15</td>\n",
       "      <td>39</td>\n",
       "    </tr>\n",
       "    <tr>\n",
       "      <th>1</th>\n",
       "      <td>2</td>\n",
       "      <td>Male</td>\n",
       "      <td>21</td>\n",
       "      <td>15</td>\n",
       "      <td>81</td>\n",
       "    </tr>\n",
       "    <tr>\n",
       "      <th>2</th>\n",
       "      <td>3</td>\n",
       "      <td>Female</td>\n",
       "      <td>20</td>\n",
       "      <td>16</td>\n",
       "      <td>6</td>\n",
       "    </tr>\n",
       "    <tr>\n",
       "      <th>3</th>\n",
       "      <td>4</td>\n",
       "      <td>Female</td>\n",
       "      <td>23</td>\n",
       "      <td>16</td>\n",
       "      <td>77</td>\n",
       "    </tr>\n",
       "    <tr>\n",
       "      <th>4</th>\n",
       "      <td>5</td>\n",
       "      <td>Female</td>\n",
       "      <td>31</td>\n",
       "      <td>17</td>\n",
       "      <td>40</td>\n",
       "    </tr>\n",
       "  </tbody>\n",
       "</table>\n",
       "</div>"
      ],
      "text/plain": [
       "   CustomerID  Gender  Age  Annual Income (k$)  Spending Score (1-100)\n",
       "0           1    Male   19                  15                      39\n",
       "1           2    Male   21                  15                      81\n",
       "2           3  Female   20                  16                       6\n",
       "3           4  Female   23                  16                      77\n",
       "4           5  Female   31                  17                      40"
      ]
     },
     "execution_count": 10,
     "metadata": {},
     "output_type": "execute_result"
    }
   ],
   "source": [
    "# Load the dataset into a Pandas DataFrame and display first few rows\n",
    "df = pd.read_csv(f\"{path}/Mall_Customers.csv\")\n",
    "df.head()"
   ]
  },
  {
   "cell_type": "code",
   "execution_count": null,
   "metadata": {},
   "outputs": [
    {
     "name": "stdout",
     "output_type": "stream",
     "text": [
      "<class 'pandas.core.frame.DataFrame'>\n",
      "RangeIndex: 200 entries, 0 to 199\n",
      "Data columns (total 5 columns):\n",
      " #   Column                  Non-Null Count  Dtype \n",
      "---  ------                  --------------  ----- \n",
      " 0   CustomerID              200 non-null    int64 \n",
      " 1   Gender                  200 non-null    object\n",
      " 2   Age                     200 non-null    int64 \n",
      " 3   Annual Income (k$)      200 non-null    int64 \n",
      " 4   Spending Score (1-100)  200 non-null    int64 \n",
      "dtypes: int64(4), object(1)\n",
      "memory usage: 7.9+ KB\n"
     ]
    }
   ],
   "source": [
    "# ------------------- Dataset Overview -------------------\n",
    "df.info()  # Get dataset information (column names, data types, missing values)"
   ]
  },
  {
   "cell_type": "code",
   "execution_count": null,
   "metadata": {},
   "outputs": [
    {
     "data": {
      "text/html": [
       "<div>\n",
       "<style scoped>\n",
       "    .dataframe tbody tr th:only-of-type {\n",
       "        vertical-align: middle;\n",
       "    }\n",
       "\n",
       "    .dataframe tbody tr th {\n",
       "        vertical-align: top;\n",
       "    }\n",
       "\n",
       "    .dataframe thead th {\n",
       "        text-align: right;\n",
       "    }\n",
       "</style>\n",
       "<table border=\"1\" class=\"dataframe\">\n",
       "  <thead>\n",
       "    <tr style=\"text-align: right;\">\n",
       "      <th></th>\n",
       "      <th>CustomerID</th>\n",
       "      <th>Age</th>\n",
       "      <th>Annual Income (k$)</th>\n",
       "      <th>Spending Score (1-100)</th>\n",
       "    </tr>\n",
       "  </thead>\n",
       "  <tbody>\n",
       "    <tr>\n",
       "      <th>count</th>\n",
       "      <td>200.000000</td>\n",
       "      <td>200.000000</td>\n",
       "      <td>200.000000</td>\n",
       "      <td>200.000000</td>\n",
       "    </tr>\n",
       "    <tr>\n",
       "      <th>mean</th>\n",
       "      <td>100.500000</td>\n",
       "      <td>38.850000</td>\n",
       "      <td>60.560000</td>\n",
       "      <td>50.200000</td>\n",
       "    </tr>\n",
       "    <tr>\n",
       "      <th>std</th>\n",
       "      <td>57.879185</td>\n",
       "      <td>13.969007</td>\n",
       "      <td>26.264721</td>\n",
       "      <td>25.823522</td>\n",
       "    </tr>\n",
       "    <tr>\n",
       "      <th>min</th>\n",
       "      <td>1.000000</td>\n",
       "      <td>18.000000</td>\n",
       "      <td>15.000000</td>\n",
       "      <td>1.000000</td>\n",
       "    </tr>\n",
       "    <tr>\n",
       "      <th>25%</th>\n",
       "      <td>50.750000</td>\n",
       "      <td>28.750000</td>\n",
       "      <td>41.500000</td>\n",
       "      <td>34.750000</td>\n",
       "    </tr>\n",
       "    <tr>\n",
       "      <th>50%</th>\n",
       "      <td>100.500000</td>\n",
       "      <td>36.000000</td>\n",
       "      <td>61.500000</td>\n",
       "      <td>50.000000</td>\n",
       "    </tr>\n",
       "    <tr>\n",
       "      <th>75%</th>\n",
       "      <td>150.250000</td>\n",
       "      <td>49.000000</td>\n",
       "      <td>78.000000</td>\n",
       "      <td>73.000000</td>\n",
       "    </tr>\n",
       "    <tr>\n",
       "      <th>max</th>\n",
       "      <td>200.000000</td>\n",
       "      <td>70.000000</td>\n",
       "      <td>137.000000</td>\n",
       "      <td>99.000000</td>\n",
       "    </tr>\n",
       "  </tbody>\n",
       "</table>\n",
       "</div>"
      ],
      "text/plain": [
       "       CustomerID         Age  Annual Income (k$)  Spending Score (1-100)\n",
       "count  200.000000  200.000000          200.000000              200.000000\n",
       "mean   100.500000   38.850000           60.560000               50.200000\n",
       "std     57.879185   13.969007           26.264721               25.823522\n",
       "min      1.000000   18.000000           15.000000                1.000000\n",
       "25%     50.750000   28.750000           41.500000               34.750000\n",
       "50%    100.500000   36.000000           61.500000               50.000000\n",
       "75%    150.250000   49.000000           78.000000               73.000000\n",
       "max    200.000000   70.000000          137.000000               99.000000"
      ]
     },
     "execution_count": 16,
     "metadata": {},
     "output_type": "execute_result"
    }
   ],
   "source": [
    "df.describe()  # Summary statistics of numerical columns"
   ]
  },
  {
   "cell_type": "code",
   "execution_count": null,
   "metadata": {},
   "outputs": [
    {
     "data": {
      "text/plain": [
       "-0.3272268460390901"
      ]
     },
     "execution_count": 46,
     "metadata": {},
     "output_type": "execute_result"
    }
   ],
   "source": [
    "# ------------------- Correlation Analysis -------------------\n",
    "# Check correlation between 'Age' and 'Spending Score (1-100)'\n",
    "df['Age'].corr(df['Spending Score (1-100)'])\n",
    "# df['Annual Income (k$)'].corr(df['Spending Score (1-100)'])"
   ]
  },
  {
   "cell_type": "code",
   "execution_count": null,
   "metadata": {},
   "outputs": [
    {
     "data": {
      "image/png": "[encoded data removed]",
      "text/plain": [
       "<Figure size 432x288 with 1 Axes>"
      ]
     },
     "metadata": {
      "needs_background": "light"
     },
     "output_type": "display_data"
    }
   ],
   "source": [
    "# Scatter plot of Age vs Spending Score\n",
    "plt.scatter(df['Age'], df['Spending Score (1-100)'])\n",
    "plt.title('Scatter Plot')\n",
    "plt.xlabel('Age')\n",
    "plt.ylabel('Spendings')\n",
    "plt.show()"
   ]
  },
  {
   "cell_type": "code",
   "execution_count": null,
   "metadata": {},
   "outputs": [],
   "source": [
    "# ------------------- Age Group Segmentation -------------------\n",
    "# Define age groups for segmentation\n",
    "bins = [18, 30, 40, 50, 60] \n",
    "labels = ['18-30', '30-40', '40-50', '50-60']\n",
    "\n",
    "# Create a new column 'Age Group' based on the defined bins\n",
    "df['Age Group'] = pd.cut(df['Age'], bins=bins, labels=labels, right=False)"
   ]
  },
  {
   "cell_type": "code",
   "execution_count": null,
   "metadata": {},
   "outputs": [
    {
     "data": {
      "text/html": [
       "<div>\n",
       "<style scoped>\n",
       "    .dataframe tbody tr th:only-of-type {\n",
       "        vertical-align: middle;\n",
       "    }\n",
       "\n",
       "    .dataframe tbody tr th {\n",
       "        vertical-align: top;\n",
       "    }\n",
       "\n",
       "    .dataframe thead th {\n",
       "        text-align: right;\n",
       "    }\n",
       "</style>\n",
       "<table border=\"1\" class=\"dataframe\">\n",
       "  <thead>\n",
       "    <tr style=\"text-align: right;\">\n",
       "      <th></th>\n",
       "      <th>CustomerID</th>\n",
       "      <th>Gender</th>\n",
       "      <th>Age</th>\n",
       "      <th>Annual Income (k$)</th>\n",
       "      <th>Spending Score (1-100)</th>\n",
       "      <th>Age Group</th>\n",
       "    </tr>\n",
       "  </thead>\n",
       "  <tbody>\n",
       "    <tr>\n",
       "      <th>0</th>\n",
       "      <td>1</td>\n",
       "      <td>Male</td>\n",
       "      <td>19</td>\n",
       "      <td>15</td>\n",
       "      <td>39</td>\n",
       "      <td>18-30</td>\n",
       "    </tr>\n",
       "    <tr>\n",
       "      <th>1</th>\n",
       "      <td>2</td>\n",
       "      <td>Male</td>\n",
       "      <td>21</td>\n",
       "      <td>15</td>\n",
       "      <td>81</td>\n",
       "      <td>18-30</td>\n",
       "    </tr>\n",
       "    <tr>\n",
       "      <th>2</th>\n",
       "      <td>3</td>\n",
       "      <td>Female</td>\n",
       "      <td>20</td>\n",
       "      <td>16</td>\n",
       "      <td>6</td>\n",
       "      <td>18-30</td>\n",
       "    </tr>\n",
       "    <tr>\n",
       "      <th>3</th>\n",
       "      <td>4</td>\n",
       "      <td>Female</td>\n",
       "      <td>23</td>\n",
       "      <td>16</td>\n",
       "      <td>77</td>\n",
       "      <td>18-30</td>\n",
       "    </tr>\n",
       "    <tr>\n",
       "      <th>4</th>\n",
       "      <td>5</td>\n",
       "      <td>Female</td>\n",
       "      <td>31</td>\n",
       "      <td>17</td>\n",
       "      <td>40</td>\n",
       "      <td>30-40</td>\n",
       "    </tr>\n",
       "  </tbody>\n",
       "</table>\n",
       "</div>"
      ],
      "text/plain": [
       "   CustomerID  Gender  Age  Annual Income (k$)  Spending Score (1-100)  \\\n",
       "0           1    Male   19                  15                      39   \n",
       "1           2    Male   21                  15                      81   \n",
       "2           3  Female   20                  16                       6   \n",
       "3           4  Female   23                  16                      77   \n",
       "4           5  Female   31                  17                      40   \n",
       "\n",
       "  Age Group  \n",
       "0     18-30  \n",
       "1     18-30  \n",
       "2     18-30  \n",
       "3     18-30  \n",
       "4     30-40  "
      ]
     },
     "execution_count": 43,
     "metadata": {},
     "output_type": "execute_result"
    }
   ],
   "source": [
    "# Display first few rows with the new Age Group column\n",
    "df.head()"
   ]
  },
  {
   "cell_type": "code",
   "execution_count": null,
   "metadata": {},
   "outputs": [
    {
     "data": {
      "image/png": "[encoded data removed]",
      "text/plain": [
       "<Figure size 432x288 with 1 Axes>"
      ]
     },
     "metadata": {
      "needs_background": "light"
     },
     "output_type": "display_data"
    }
   ],
   "source": [
    "# ------------------- Spending Score Analysis by Age Group -------------------\n",
    "# Compute the average spending score for each age group\n",
    "age_spending = df.groupby('Age Group')['Spending Score (1-100)'].mean().reset_index()\n",
    "sns.barplot(x='Age Group', y='Spending Score (1-100)', data=age_spending)\n",
    "\n",
    "# Add labels and title\n",
    "plt.title('Average Spending by Age Group')\n",
    "plt.xlabel('Age Group')\n",
    "plt.ylabel('Average Spending')\n",
    "plt.show()"
   ]
  },
  {
   "cell_type": "code",
   "execution_count": null,
   "metadata": {},
   "outputs": [
    {
     "data": {
      "text/plain": [
       "array([[19, 39],\n",
       "       [21, 81],\n",
       "       [20,  6],\n",
       "       [23, 77],\n",
       "       [31, 40],\n",
       "       [22, 76],\n",
       "       [35,  6],\n",
       "       [23, 94],\n",
       "       [64,  3],\n",
       "       [30, 72],\n",
       "       [67, 14],\n",
       "       [35, 99],\n",
       "       [58, 15],\n",
       "       [24, 77],\n",
       "       [37, 13],\n",
       "       [22, 79],\n",
       "       [35, 35],\n",
       "       [20, 66],\n",
       "       [52, 29],\n",
       "       [35, 98],\n",
       "       [35, 35],\n",
       "       [25, 73],\n",
       "       [46,  5],\n",
       "       [31, 73],\n",
       "       [54, 14],\n",
       "       [29, 82],\n",
       "       [45, 32],\n",
       "       [35, 61],\n",
       "       [40, 31],\n",
       "       [23, 87],\n",
       "       [60,  4],\n",
       "       [21, 73],\n",
       "       [53,  4],\n",
       "       [18, 92],\n",
       "       [49, 14],\n",
       "       [21, 81],\n",
       "       [42, 17],\n",
       "       [30, 73],\n",
       "       [36, 26],\n",
       "       [20, 75],\n",
       "       [65, 35],\n",
       "       [24, 92],\n",
       "       [48, 36],\n",
       "       [31, 61],\n",
       "       [49, 28],\n",
       "       [24, 65],\n",
       "       [50, 55],\n",
       "       [27, 47],\n",
       "       [29, 42],\n",
       "       [31, 42],\n",
       "       [49, 52],\n",
       "       [33, 60],\n",
       "       [31, 54],\n",
       "       [59, 60],\n",
       "       [50, 45],\n",
       "       [47, 41],\n",
       "       [51, 50],\n",
       "       [69, 46],\n",
       "       [27, 51],\n",
       "       [53, 46],\n",
       "       [70, 56],\n",
       "       [19, 55],\n",
       "       [67, 52],\n",
       "       [54, 59],\n",
       "       [63, 51],\n",
       "       [18, 59],\n",
       "       [43, 50],\n",
       "       [68, 48],\n",
       "       [19, 59],\n",
       "       [32, 47],\n",
       "       [70, 55],\n",
       "       [47, 42],\n",
       "       [60, 49],\n",
       "       [60, 56],\n",
       "       [59, 47],\n",
       "       [26, 54],\n",
       "       [45, 53],\n",
       "       [40, 48],\n",
       "       [23, 52],\n",
       "       [49, 42],\n",
       "       [57, 51],\n",
       "       [38, 55],\n",
       "       [67, 41],\n",
       "       [46, 44],\n",
       "       [21, 57],\n",
       "       [48, 46],\n",
       "       [55, 58],\n",
       "       [22, 55],\n",
       "       [34, 60],\n",
       "       [50, 46],\n",
       "       [68, 55],\n",
       "       [18, 41],\n",
       "       [48, 49],\n",
       "       [40, 40],\n",
       "       [32, 42],\n",
       "       [24, 52],\n",
       "       [47, 47],\n",
       "       [27, 50],\n",
       "       [48, 42],\n",
       "       [20, 49],\n",
       "       [23, 41],\n",
       "       [49, 48],\n",
       "       [67, 59],\n",
       "       [26, 55],\n",
       "       [49, 56],\n",
       "       [21, 42],\n",
       "       [66, 50],\n",
       "       [54, 46],\n",
       "       [68, 43],\n",
       "       [66, 48],\n",
       "       [65, 52],\n",
       "       [19, 54],\n",
       "       [38, 42],\n",
       "       [19, 46],\n",
       "       [18, 48],\n",
       "       [19, 50],\n",
       "       [63, 43],\n",
       "       [49, 59],\n",
       "       [51, 43],\n",
       "       [50, 57],\n",
       "       [27, 56],\n",
       "       [38, 40],\n",
       "       [40, 58],\n",
       "       [39, 91],\n",
       "       [23, 29],\n",
       "       [31, 77],\n",
       "       [43, 35],\n",
       "       [40, 95],\n",
       "       [59, 11],\n",
       "       [38, 75],\n",
       "       [47,  9],\n",
       "       [39, 75],\n",
       "       [25, 34],\n",
       "       [31, 71],\n",
       "       [20,  5],\n",
       "       [29, 88],\n",
       "       [44,  7],\n",
       "       [32, 73],\n",
       "       [19, 10],\n",
       "       [35, 72],\n",
       "       [57,  5],\n",
       "       [32, 93],\n",
       "       [28, 40],\n",
       "       [32, 87],\n",
       "       [25, 12],\n",
       "       [28, 97],\n",
       "       [48, 36],\n",
       "       [32, 74],\n",
       "       [34, 22],\n",
       "       [34, 90],\n",
       "       [43, 17],\n",
       "       [39, 88],\n",
       "       [44, 20],\n",
       "       [38, 76],\n",
       "       [47, 16],\n",
       "       [27, 89],\n",
       "       [37,  1],\n",
       "       [30, 78],\n",
       "       [34,  1],\n",
       "       [30, 73],\n",
       "       [56, 35],\n",
       "       [29, 83],\n",
       "       [19,  5],\n",
       "       [31, 93],\n",
       "       [50, 26],\n",
       "       [36, 75],\n",
       "       [42, 20],\n",
       "       [33, 95],\n",
       "       [36, 27],\n",
       "       [32, 63],\n",
       "       [40, 13],\n",
       "       [28, 75],\n",
       "       [36, 10],\n",
       "       [36, 92],\n",
       "       [52, 13],\n",
       "       [30, 86],\n",
       "       [58, 15],\n",
       "       [27, 69],\n",
       "       [59, 14],\n",
       "       [35, 90],\n",
       "       [37, 32],\n",
       "       [32, 86],\n",
       "       [46, 15],\n",
       "       [29, 88],\n",
       "       [41, 39],\n",
       "       [30, 97],\n",
       "       [54, 24],\n",
       "       [28, 68],\n",
       "       [41, 17],\n",
       "       [36, 85],\n",
       "       [34, 23],\n",
       "       [32, 69],\n",
       "       [33,  8],\n",
       "       [38, 91],\n",
       "       [47, 16],\n",
       "       [35, 79],\n",
       "       [45, 28],\n",
       "       [32, 74],\n",
       "       [32, 18],\n",
       "       [30, 83]])"
      ]
     },
     "execution_count": 55,
     "metadata": {},
     "output_type": "execute_result"
    }
   ],
   "source": [
    "# ------------------- Preparing Data for K-Means Clustering -------------------\n",
    "# Select features: 'Age' and 'Spending Score (1-100)'\n",
    "X = df.iloc[:,[2,4]].values\n",
    "X"
   ]
  },
  {
   "cell_type": "code",
   "execution_count": null,
   "metadata": {},
   "outputs": [
    {
     "name": "stderr",
     "output_type": "stream",
     "text": [
      "/opt/anaconda3/lib/python3.9/site-packages/sklearn/cluster/_kmeans.py:870: FutureWarning: The default value of `n_init` will change from 10 to 'auto' in 1.4. Set the value of `n_init` explicitly to suppress the warning\n",
      "  warnings.warn(\n",
      "/opt/anaconda3/lib/python3.9/site-packages/sklearn/cluster/_kmeans.py:870: FutureWarning: The default value of `n_init` will change from 10 to 'auto' in 1.4. Set the value of `n_init` explicitly to suppress the warning\n",
      "  warnings.warn(\n",
      "/opt/anaconda3/lib/python3.9/site-packages/sklearn/cluster/_kmeans.py:870: FutureWarning: The default value of `n_init` will change from 10 to 'auto' in 1.4. Set the value of `n_init` explicitly to suppress the warning\n",
      "  warnings.warn(\n",
      "/opt/anaconda3/lib/python3.9/site-packages/sklearn/cluster/_kmeans.py:870: FutureWarning: The default value of `n_init` will change from 10 to 'auto' in 1.4. Set the value of `n_init` explicitly to suppress the warning\n",
      "  warnings.warn(\n",
      "/opt/anaconda3/lib/python3.9/site-packages/sklearn/cluster/_kmeans.py:870: FutureWarning: The default value of `n_init` will change from 10 to 'auto' in 1.4. Set the value of `n_init` explicitly to suppress the warning\n",
      "  warnings.warn(\n",
      "/opt/anaconda3/lib/python3.9/site-packages/sklearn/cluster/_kmeans.py:870: FutureWarning: The default value of `n_init` will change from 10 to 'auto' in 1.4. Set the value of `n_init` explicitly to suppress the warning\n",
      "  warnings.warn(\n",
      "/opt/anaconda3/lib/python3.9/site-packages/sklearn/cluster/_kmeans.py:870: FutureWarning: The default value of `n_init` will change from 10 to 'auto' in 1.4. Set the value of `n_init` explicitly to suppress the warning\n",
      "  warnings.warn(\n",
      "/opt/anaconda3/lib/python3.9/site-packages/sklearn/cluster/_kmeans.py:870: FutureWarning: The default value of `n_init` will change from 10 to 'auto' in 1.4. Set the value of `n_init` explicitly to suppress the warning\n",
      "  warnings.warn(\n",
      "/opt/anaconda3/lib/python3.9/site-packages/sklearn/cluster/_kmeans.py:870: FutureWarning: The default value of `n_init` will change from 10 to 'auto' in 1.4. Set the value of `n_init` explicitly to suppress the warning\n",
      "  warnings.warn(\n",
      "/opt/anaconda3/lib/python3.9/site-packages/sklearn/cluster/_kmeans.py:870: FutureWarning: The default value of `n_init` will change from 10 to 'auto' in 1.4. Set the value of `n_init` explicitly to suppress the warning\n",
      "  warnings.warn(\n"
     ]
    },
    {
     "data": {
      "text/plain": [
       "[171535.5,\n",
       " 75949.15601023017,\n",
       " 45840.67661610867,\n",
       " 28165.58356662934,\n",
       " 23838.248821646186,\n",
       " 19483.1179104427,\n",
       " 15514.193134351031,\n",
       " 13006.48362885102,\n",
       " 11738.020296954506,\n",
       " 10173.039478114479]"
      ]
     },
     "execution_count": 58,
     "metadata": {},
     "output_type": "execute_result"
    }
   ],
   "source": [
    "# ------------------- Finding Optimal Clusters using Elbow Method -------------------\n",
    "from sklearn.cluster import KMeans\n",
    "wcss = []  # List to store Within-Cluster Sum of Squares (WCSS)\n",
    "\n",
    "# Run K-Means clustering for different numbers of clusters (1 to 10)\n",
    "for i in range(1,11):\n",
    "    kmeans = KMeans(n_clusters = i, init = 'k-means++', random_state = 42)\n",
    "    kmeans.fit(X)\n",
    "    wcss.append(kmeans.inertia_)  # Append WCSS value for each cluster\n",
    "    \n",
    "wcss"
   ]
  },
  {
   "cell_type": "code",
   "execution_count": null,
   "metadata": {},
   "outputs": [
    {
     "data": {
      "image/png": "[encoded data removed]",
      "text/plain": [
       "<Figure size 432x288 with 1 Axes>"
      ]
     },
     "metadata": {},
     "output_type": "display_data"
    }
   ],
   "source": [
    "# Plot Elbow Curve to determine the optimal number of clusters\n",
    "sns.set()\n",
    "plt.plot(range(1,11),wcss)\n",
    "plt.xlabel(\"Number of clusters\")\n",
    "plt.ylabel(\"WCSS\")\n",
    "plt.title(\"Elbow Curve\")\n",
    "plt.show()"
   ]
  },
  {
   "cell_type": "code",
   "execution_count": null,
   "metadata": {},
   "outputs": [
    {
     "name": "stderr",
     "output_type": "stream",
     "text": [
      "/opt/anaconda3/lib/python3.9/site-packages/sklearn/cluster/_kmeans.py:870: FutureWarning: The default value of `n_init` will change from 10 to 'auto' in 1.4. Set the value of `n_init` explicitly to suppress the warning\n",
      "  warnings.warn(\n"
     ]
    },
    {
     "data": {
      "text/plain": [
       "array([3, 2, 1, 2, 3, 2, 1, 2, 1, 2, 1, 2, 1, 2, 1, 2, 3, 3, 1, 2, 3, 2,\n",
       "       1, 2, 1, 2, 1, 3, 1, 2, 1, 2, 1, 2, 1, 2, 1, 2, 1, 2, 0, 2, 0, 3,\n",
       "       1, 3, 0, 3, 3, 3, 0, 3, 3, 0, 0, 0, 0, 0, 3, 0, 0, 3, 0, 0, 0, 3,\n",
       "       0, 0, 3, 3, 0, 0, 0, 0, 0, 3, 0, 3, 3, 0, 0, 3, 0, 0, 3, 0, 0, 3,\n",
       "       3, 0, 0, 3, 0, 3, 3, 3, 0, 3, 0, 3, 3, 0, 0, 3, 0, 3, 0, 0, 0, 0,\n",
       "       0, 3, 3, 3, 3, 3, 0, 0, 0, 0, 3, 3, 3, 2, 3, 2, 0, 2, 1, 2, 1, 2,\n",
       "       3, 2, 1, 2, 1, 2, 1, 2, 1, 2, 3, 2, 1, 2, 0, 2, 1, 2, 1, 2, 1, 2,\n",
       "       1, 2, 1, 2, 1, 2, 0, 2, 1, 2, 1, 2, 1, 2, 1, 3, 1, 2, 1, 2, 1, 2,\n",
       "       1, 2, 1, 2, 1, 2, 1, 2, 3, 2, 1, 2, 1, 2, 1, 2, 1, 2, 1, 2, 1, 2,\n",
       "       1, 2], dtype=int32)"
      ]
     },
     "execution_count": 60,
     "metadata": {},
     "output_type": "execute_result"
    }
   ],
   "source": [
    "# ------------------- Applying K-Means Clustering -------------------\n",
    "# Choosing 4 clusters based on the Elbow Method\n",
    "kmeans = KMeans(n_clusters = 4, init = 'k-means++', random_state = 42)\n",
    "\n",
    "# Fit K-Means and predict cluster labels\n",
    "Y = kmeans.fit_predict(X)\n",
    "Y"
   ]
  },
  {
   "cell_type": "code",
   "execution_count": null,
   "metadata": {},
   "outputs": [
    {
     "data": {
      "text/plain": [
       "Text(0.5, 1.0, 'Customer Groups')"
      ]
     },
     "execution_count": 64,
     "metadata": {},
     "output_type": "execute_result"
    },
    {
     "data": {
      "image/png": "[encoded data removed]",
      "text/plain": [
       "<Figure size 576x576 with 1 Axes>"
      ]
     },
     "metadata": {},
     "output_type": "display_data"
    }
   ],
   "source": [
    "# ------------------- Visualizing the Clusters -------------------\n",
    "plt.figure(figsize=(8,8))\n",
    "\n",
    "# Scatter plot for each cluster with different colors\n",
    "plt.scatter(X[Y==0,0], X[Y==0,1], s=50, c='violet', label='Cluster1')\n",
    "plt.scatter(X[Y==1,0], X[Y==1,1], s=50, c='indigo', label='Cluster1')\n",
    "plt.scatter(X[Y==2,0], X[Y==2,1], s=50, c='blue',   label='Cluster1')\n",
    "plt.scatter(X[Y==3,0], X[Y==3,1], s=50, c='green',  label='Cluster1')\n",
    "\n",
    "# Plot centroids of clusters\n",
    "plt.scatter(kmeans.cluster_centers_[:,0], kmeans.cluster_centers_[:,1], s=200, marker = \"X\", c='red', label='Centroid' )\n",
    "plt.xlabel(\"Age\")\n",
    "plt.ylabel(\"Spendings\")\n",
    "plt.legend()\n",
    "plt.title(\"Customer Groups\")"
   ]
  }
 ],
 "metadata": {
  "kernelspec": {
   "display_name": "base",
   "language": "python",
   "name": "python3"
  },
  "language_info": {
   "codemirror_mode": {
    "name": "ipython",
    "version": 3
   },
   "file_extension": ".py",
   "mimetype": "text/x-python",
   "name": "python",
   "nbconvert_exporter": "python",
   "pygments_lexer": "ipython3",
   "version": "3.9.7"
  }
 },
 "nbformat": 4,
 "nbformat_minor": 2
}
